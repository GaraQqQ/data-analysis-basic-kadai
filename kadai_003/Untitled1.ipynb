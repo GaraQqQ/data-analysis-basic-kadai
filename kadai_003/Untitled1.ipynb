{
  "nbformat": 4,
  "nbformat_minor": 0,
  "metadata": {
    "colab": {
      "provenance": []
    },
    "kernelspec": {
      "name": "python3",
      "display_name": "Python 3"
    },
    "language_info": {
      "name": "python"
    }
  },
  "cells": [
    {
      "cell_type": "code",
      "source": [
        "import numpy as np\n",
        "# 多次元配列の作成\n",
        "array1 = np.array([[1, 2, 3], [4, 5, 6],[7, 8, 9]])\n",
        "array2 = np.array([[9, 8, 7],[6, 5, 4],[3, 2, 1]])\n",
        "\n",
        "# 行列演算\n",
        "# 行列の積\n",
        "multiplication = np.dot(array1, array2)\n",
        "print(\"\\n行列の積の結果:\")\n",
        "print(multiplication)\n",
        "\n",
        "# 最大値を求める\n",
        "max = np.max(multiplication)\n",
        "print(\"加算結果の最大値:\", max)"
      ],
      "metadata": {
        "colab": {
          "base_uri": "https://localhost:8080/"
        },
        "id": "mZS9W2BRkuPj",
        "outputId": "47218724-124a-42ac-aa01-bd691757177c"
      },
      "execution_count": 18,
      "outputs": [
        {
          "output_type": "stream",
          "name": "stdout",
          "text": [
            "\n",
            "行列の積の結果:\n",
            "[[ 30  24  18]\n",
            " [ 84  69  54]\n",
            " [138 114  90]]\n",
            "加算結果の最大値: 138\n"
          ]
        }
      ]
    }
  ]
}