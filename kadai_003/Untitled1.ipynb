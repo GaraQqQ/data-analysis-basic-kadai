{
  "nbformat": 4,
  "nbformat_minor": 0,
  "metadata": {
    "colab": {
      "provenance": []
    },
    "kernelspec": {
      "name": "python3",
      "display_name": "Python 3"
    },
    "language_info": {
      "name": "python"
    }
  },
  "cells": [
    {
      "cell_type": "code",
      "source": [
        "import numpy as np\n",
        "\n",
        "# 多次元配列の作成\n",
        "array1 = np.array([[1, 2, 3], [4, 5, 6],[7, 8, 9]])\n",
        "\n",
        "array2 = np.array([[9, 8, 7],[6, 5, 4],[3, 2, 1]])\n",
        "\n",
        "# 行列演算\n",
        "# 行列の加算\n",
        "addition = array1 + array2\n",
        "print(\"行列の加算結果:\")\n",
        "print(addition)\n",
        "\n",
        "# 最大値を求める\n",
        "max = np.max(addition)\n",
        "print(\"最大値:\", max)"
      ],
      "metadata": {
        "colab": {
          "base_uri": "https://localhost:8080/"
        },
        "id": "8VK_dYSIavFL",
        "outputId": "1cc6b519-e6f7-44fb-9f2d-a4ee08a9db9e"
      },
      "execution_count": 18,
      "outputs": [
        {
          "output_type": "stream",
          "name": "stdout",
          "text": [
            "行列の加算結果:\n",
            "[[10 10 10]\n",
            " [10 10 10]\n",
            " [10 10 10]]\n",
            "最大値: 10\n"
          ]
        }
      ]
    }
  ]
}